{
 "cells": [
  {
   "cell_type": "code",
   "execution_count": null,
   "id": "0a99dbfb",
   "metadata": {
    "gradient": {}
   },
   "outputs": [],
   "source": [
    "from fastai.vision.all import *\n",
    "import pandas as pd\n",
    "import cam\n",
    "import util"
   ]
  },
  {
   "cell_type": "code",
   "execution_count": null,
   "id": "bf06606c",
   "metadata": {
    "gradient": {}
   },
   "outputs": [],
   "source": [
    "dls, labels = util.chexpert_data_loader()"
   ]
  },
  {
   "cell_type": "code",
   "execution_count": null,
   "id": "33432482",
   "metadata": {
    "gradient": {}
   },
   "outputs": [],
   "source": [
    "dls.show_batch(max_n=9, figsize=(20,9))"
   ]
  },
  {
   "cell_type": "code",
   "execution_count": null,
   "id": "5b679ae1",
   "metadata": {
    "gradient": {}
   },
   "outputs": [],
   "source": [
    "# First train on conditional probabilities\n",
    "chexpert_learner_conditional = util.ChexpertLearner(dls, densenet121, n_out=len(labels), y_range=(0, 1),\n",
    "                                        loss_func=util.BCEFlatHLCP(hierarchy_map=util.hierarchy_map),\n",
    "                                        metrics=[partial(accuracy_multi, sigmoid=False),\n",
    "                                                 RocAucMulti(sigmoid=False, average='weighted')])"
   ]
  },
  {
   "cell_type": "code",
   "execution_count": null,
   "id": "9794522e",
   "metadata": {},
   "outputs": [],
   "source": [
    "chexpert_learner_conditional.find_lr()"
   ]
  },
  {
   "cell_type": "code",
   "execution_count": null,
   "id": "37a21840",
   "metadata": {},
   "outputs": [],
   "source": [
    "chexpert_learner_conditional.learn_model(use_saved=False , epochs=30, freeze_epochs=2)"
   ]
  },
  {
   "cell_type": "code",
   "execution_count": null,
   "id": "1d8c83b2",
   "metadata": {
    "gradient": {}
   },
   "outputs": [],
   "source": [
    "# Next train unconditionally for only transfer learning\n",
    "chexpert_learner_unconditional = util.ChexpertLearner(dls, densenet121, n_out=len(labels), y_range=(0, 1),\n",
    "                                        loss_func=BCELossFlat(),\n",
    "                                        metrics=[partial(accuracy_multi, sigmoid=False),\n",
    "                                                 RocAucMulti(sigmoid=False, average='weighted')])"
   ]
  },
  {
   "cell_type": "code",
   "execution_count": null,
   "id": "820ad9f6",
   "metadata": {},
   "outputs": [],
   "source": [
    "chexpert_learner_conditional.find_lr()"
   ]
  },
  {
   "cell_type": "code",
   "execution_count": null,
   "id": "9c95b600",
   "metadata": {},
   "outputs": [],
   "source": [
    "chexpert_learner_unconditional.learn_model(use_saved=True, train_saved=True, epochs=30, freeze_epochs=30)"
   ]
  },
  {
   "cell_type": "code",
   "execution_count": null,
   "id": "5bd8bc3c",
   "metadata": {},
   "outputs": [],
   "source": [
    "chexpert_learner = chexpert_learner_unconditional\n",
    "chexpert_learner.learn.show_results()"
   ]
  },
  {
   "cell_type": "code",
   "execution_count": null,
   "id": "6d248ae1",
   "metadata": {},
   "outputs": [],
   "source": [
    "interp = Interpretation.from_learner(chexpert_learner.learn)\n",
    "interp.plot_top_losses(9)"
   ]
  },
  {
   "cell_type": "code",
   "execution_count": null,
   "id": "47b009be",
   "metadata": {},
   "outputs": [],
   "source": [
    "cam.plot_cam(chexpert_learner.learn)"
   ]
  }
 ],
 "metadata": {
  "kernelspec": {
   "display_name": "Python 3",
   "language": "python",
   "name": "python3"
  },
  "language_info": {
   "codemirror_mode": {
    "name": "ipython",
    "version": 3
   },
   "file_extension": ".py",
   "mimetype": "text/x-python",
   "name": "python",
   "nbconvert_exporter": "python",
   "pygments_lexer": "ipython3",
   "version": "3.8.5"
  }
 },
 "nbformat": 4,
 "nbformat_minor": 5
}
