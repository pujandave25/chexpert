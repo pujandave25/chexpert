{
 "cells": [
  {
   "cell_type": "code",
   "execution_count": null,
   "id": "8c0ae68d",
   "metadata": {
    "gradient": {}
   },
   "outputs": [],
   "source": [
    "from fastai.vision.all import *\n",
    "import pandas as pd\n",
    "import cam\n",
    "import util"
   ]
  },
  {
   "cell_type": "code",
   "execution_count": null,
   "id": "0111119c",
   "metadata": {
    "gradient": {}
   },
   "outputs": [],
   "source": [
    "dls, labels = util.chexpert_data_loader()"
   ]
  },
  {
   "cell_type": "code",
   "execution_count": null,
   "id": "1d7ca832",
   "metadata": {
    "gradient": {}
   },
   "outputs": [],
   "source": [
    "dls.show_batch(max_n=9, figsize=(20,9))"
   ]
  },
  {
   "cell_type": "code",
   "execution_count": null,
   "id": "5e5d6024",
   "metadata": {
    "gradient": {}
   },
   "outputs": [],
   "source": [
    "# First train on conditional probabilities\n",
    "chexpert_learner_conditional = util.ChexpertLearner(dls, densenet121, n_out=len(labels), y_range=(0, 1),\n",
    "                                        loss_func=util.BCEFlatHLCP(hierarchy_map=util.hierarchy_map),\n",
    "                                        metrics=[partial(accuracy_multi, sigmoid=False),\n",
    "                                                 RocAucMulti(average='weighted')])"
   ]
  },
  {
   "cell_type": "code",
   "execution_count": null,
   "id": "5c904544",
   "metadata": {},
   "outputs": [],
   "source": [
    "# Quick way to find the optimal LRs\n",
    "# take the max of the lr_min (min loss/10)\n",
    "# and lr_steep (steepest loss/lr curve) as\n",
    "# fine_tune will use a cycle rangining from\n",
    "# base_lr/100 to base_lr\n",
    "lr_min, lr_steep = chexpert_learner_conditional.learn.lr_find()\n",
    "base_lr = max(lr_min, lr_steep)\n",
    "base_lr"
   ]
  },
  {
   "cell_type": "code",
   "execution_count": null,
   "id": "900d99a8",
   "metadata": {},
   "outputs": [],
   "source": [
    "chexpert_learner_conditional.learn_model(use_saved=False , epochs=30, freeze_epochs=2, base_lr=base_lr)"
   ]
  },
  {
   "cell_type": "code",
   "execution_count": null,
   "id": "181f9a64",
   "metadata": {
    "gradient": {}
   },
   "outputs": [],
   "source": [
    "# Next train unconditionally for only transfer learning\n",
    "chexpert_learner_unconditional = util.ChexpertLearner(dls, densenet121, n_out=len(labels), y_range=(0, 1),\n",
    "                                        loss_func=BCELossFlat(),\n",
    "                                        metrics=[partial(accuracy_multi, sigmoid=False),\n",
    "                                                 RocAucMulti(average='weighted')])"
   ]
  },
  {
   "cell_type": "code",
   "execution_count": null,
   "id": "49745b59",
   "metadata": {},
   "outputs": [],
   "source": [
    "# Quick way to find the optimal LRs\n",
    "# take the max of the lr_min (min loss/10)\n",
    "# and lr_steep (steepest loss/lr curve) as\n",
    "# fine_tune will use a cycle rangining from\n",
    "# base_lr/100 to base_lr\n",
    "lr_min, lr_steep = chexpert_learner_unconditional.learn.lr_find()\n",
    "base_lr = max(lr_min, lr_steep)\n",
    "base_lr"
   ]
  },
  {
   "cell_type": "code",
   "execution_count": null,
   "id": "8166e32f",
   "metadata": {},
   "outputs": [],
   "source": [
    "chexpert_learner_unconditional.learn_model(use_saved=True, train_saved=True, epochs=30, freeze_epochs=30, base_lr=base_lr)"
   ]
  },
  {
   "cell_type": "code",
   "execution_count": null,
   "id": "06d43a1d",
   "metadata": {},
   "outputs": [],
   "source": [
    "chexpert_learner = chexpert_learner_unconditional\n",
    "chexpert_learner.learn.show_results()"
   ]
  },
  {
   "cell_type": "code",
   "execution_count": null,
   "id": "c11d81b4",
   "metadata": {},
   "outputs": [],
   "source": [
    "interp = Interpretation.from_learner(chexpert_learner.learn)\n",
    "interp.plot_top_losses(9)"
   ]
  },
  {
   "cell_type": "code",
   "execution_count": null,
   "id": "4f3734e0",
   "metadata": {},
   "outputs": [],
   "source": [
    "cam.plot_cam(chexpert_learner.learn)"
   ]
  }
 ],
 "metadata": {
  "kernelspec": {
   "display_name": "Python 3",
   "language": "python",
   "name": "python3"
  },
  "language_info": {
   "codemirror_mode": {
    "name": "ipython",
    "version": 3
   },
   "file_extension": ".py",
   "mimetype": "text/x-python",
   "name": "python",
   "nbconvert_exporter": "python",
   "pygments_lexer": "ipython3",
   "version": "3.8.5"
  }
 },
 "nbformat": 4,
 "nbformat_minor": 5
}
