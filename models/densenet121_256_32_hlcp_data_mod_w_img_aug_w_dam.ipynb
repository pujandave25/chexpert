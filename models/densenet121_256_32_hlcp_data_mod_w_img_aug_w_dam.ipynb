{
 "cells": [
  {
   "cell_type": "markdown",
   "metadata": {},
   "source": [
    "# DAM"
   ]
  },
  {
   "cell_type": "code",
   "execution_count": 1,
   "metadata": {},
   "outputs": [],
   "source": [
    "from fastai.vision.all import *\n",
    "import pandas as pd\n",
    "import cam\n",
    "import util"
   ]
  },
  {
   "cell_type": "code",
   "execution_count": 2,
   "metadata": {},
   "outputs": [],
   "source": [
    "base_model_name = 'densenet121-chexpert-final'\n",
    "\n",
    "dls, labels = util.chexpert_data_loader(bs=8)"
   ]
  },
  {
   "cell_type": "code",
   "execution_count": 3,
   "metadata": {},
   "outputs": [],
   "source": [
    "# Load the base model\n",
    "model_base = cnn_learner(dls, densenet121, n_out=len(labels), path=Path('../saves/'), y_range=(0,1))\n",
    "model_base.load(base_model_name)\n",
    "\n",
    "# Set all parameters to require grad\n",
    "for param in model_base.parameters():\n",
    "    param.requires_grad = True\n",
    "    \n",
    "# Initialize DAM learner\n",
    "dam_learner = util.DAM(model_base, dls, folder=Path('../saves/densenet121-dam'))"
   ]
  },
  {
   "cell_type": "code",
   "execution_count": 4,
   "metadata": {},
   "outputs": [
    {
     "name": "stdout",
     "output_type": "stream",
     "text": [
      "Initial AUC score: 0.81876165749784\n"
     ]
    }
   ],
   "source": [
    "print(f'Initial AUC score: {dam_learner.eval()}')"
   ]
  },
  {
   "cell_type": "code",
   "execution_count": 5,
   "metadata": {},
   "outputs": [
    {
     "name": "stdout",
     "output_type": "stream",
     "text": [
      "epoch: 0, train_loss: -0.003353, train_auc:0.638542, test_auc:0.607014, lr:0.100000\n",
      "Update Regularizer @ T=22364!\n",
      "epoch: 1, train_loss: -0.006063, train_auc:0.618676, test_auc:0.766434, lr:0.086957\n",
      "Update Regularizer @ T=22364!\n",
      "epoch: 2, train_loss: -0.000945, train_auc:0.627570, test_auc:0.730996, lr:0.075614\n",
      "Update Regularizer @ T=22364!\n",
      "epoch: 3, train_loss: -0.001757, train_auc:0.625952, test_auc:0.745484, lr:0.065752\n",
      "Update Regularizer @ T=22364!\n",
      "epoch: 4, train_loss: 0.000251, train_auc:0.625762, test_auc:0.744044, lr:0.057175\n",
      "Update Regularizer @ T=22364!\n",
      "epoch: 5, train_loss: -0.002367, train_auc:0.625043, test_auc:0.744513, lr:0.049718\n",
      "Update Regularizer @ T=22364!\n",
      "epoch: 6, train_loss: -0.002646, train_auc:0.624057, test_auc:0.747607, lr:0.043233\n",
      "Update Regularizer @ T=22364!\n",
      "epoch: 7, train_loss: -0.002827, train_auc:0.621952, test_auc:0.749226, lr:0.037594\n",
      "Update Regularizer @ T=22364!\n"
     ]
    }
   ],
   "source": [
    "dam_learner.train(max_epoch=8, lr_div=1.15)"
   ]
  },
  {
   "cell_type": "code",
   "execution_count": null,
   "metadata": {},
   "outputs": [],
   "source": []
  }
 ],
 "metadata": {
  "kernelspec": {
   "display_name": "Python 3",
   "language": "python",
   "name": "python3"
  },
  "language_info": {
   "codemirror_mode": {
    "name": "ipython",
    "version": 3
   },
   "file_extension": ".py",
   "mimetype": "text/x-python",
   "name": "python",
   "nbconvert_exporter": "python",
   "pygments_lexer": "ipython3",
   "version": "3.8.5"
  }
 },
 "nbformat": 4,
 "nbformat_minor": 5
}
