{
 "cells": [
  {
   "cell_type": "markdown",
   "metadata": {},
   "source": [
    "# DAM"
   ]
  },
  {
   "cell_type": "code",
   "execution_count": 1,
   "metadata": {},
   "outputs": [],
   "source": [
    "from fastai.vision.all import *\n",
    "import pandas as pd\n",
    "import cam\n",
    "import util"
   ]
  },
  {
   "cell_type": "code",
   "execution_count": 2,
   "metadata": {},
   "outputs": [],
   "source": [
    "base_model_name = 'densenet121-chexpert-final'\n",
    "\n",
    "dls, labels = util.chexpert_data_loader(bs=8)"
   ]
  },
  {
   "cell_type": "code",
   "execution_count": 3,
   "metadata": {},
   "outputs": [],
   "source": [
    "# Load the base model\n",
    "model_base = cnn_learner(dls, densenet121, n_out=len(labels), path=Path('../saves/'), y_range=(0,1))\n",
    "model_base.load(base_model_name)\n",
    "\n",
    "# Set all parameters to require grad\n",
    "for param in model_base.parameters():\n",
    "    param.requires_grad = True\n",
    "    \n",
    "# Initialize DAM learner\n",
    "dam_learner = util.DAM(model_base, dls, folder=Path('../saves/densenet121-dam'), lr=0.05)"
   ]
  },
  {
   "cell_type": "code",
   "execution_count": 4,
   "metadata": {},
   "outputs": [
    {
     "name": "stdout",
     "output_type": "stream",
     "text": [
      "Initial AUC score: 0.8186546820880876\n"
     ]
    }
   ],
   "source": [
    "print(f'Initial AUC score: {dam_learner.eval()}')"
   ]
  },
  {
   "cell_type": "code",
   "execution_count": 5,
   "metadata": {},
   "outputs": [
    {
     "name": "stdout",
     "output_type": "stream",
     "text": [
      "epoch: 0, train_loss: -0.021034, train_auc:0.705130, test_auc:0.682756, lr:0.050000\n",
      "Update Regularizer @ T=22364!\n",
      "epoch: 1, train_loss: -0.002383, train_auc:0.672174, test_auc:0.807442, lr:0.040000\n",
      "Update Regularizer @ T=22364!\n",
      "epoch: 2, train_loss: -0.006048, train_auc:0.709431, test_auc:0.796139, lr:0.032000\n",
      "Update Regularizer @ T=22364!\n",
      "epoch: 3, train_loss: -0.001118, train_auc:0.704700, test_auc:0.800208, lr:0.025600\n",
      "Update Regularizer @ T=22364!\n"
     ]
    }
   ],
   "source": [
    "dam_learner.train(max_epoch=4, lr_div=1.25)"
   ]
  },
  {
   "cell_type": "markdown",
   "metadata": {},
   "source": [
    "Get the categorywise AUC scores of the best model."
   ]
  },
  {
   "cell_type": "code",
   "execution_count": 6,
   "metadata": {},
   "outputs": [],
   "source": [
    "dam_learner.load('m-epoch 2-2021_May_09-01_59_24.pth.tar')"
   ]
  },
  {
   "cell_type": "code",
   "execution_count": 7,
   "metadata": {},
   "outputs": [
    {
     "name": "stdout",
     "output_type": "stream",
     "text": [
      "Categorywise AUC score: [0.87006169 0.66493975 0.84916202 0.71735267 0.75080481 0.83673019\n",
      " 0.71728706 0.75167137 0.67302798 0.85925304 0.86890694 0.77324298\n",
      " 0.73940662 0.87770493]\n"
     ]
    }
   ],
   "source": [
    "print(f'Categorywise AUC score: {dam_learner.eval(average=None)}')"
   ]
  },
  {
   "cell_type": "code",
   "execution_count": null,
   "metadata": {},
   "outputs": [],
   "source": []
  }
 ],
 "metadata": {
  "kernelspec": {
   "display_name": "Python 3",
   "language": "python",
   "name": "python3"
  },
  "language_info": {
   "codemirror_mode": {
    "name": "ipython",
    "version": 3
   },
   "file_extension": ".py",
   "mimetype": "text/x-python",
   "name": "python",
   "nbconvert_exporter": "python",
   "pygments_lexer": "ipython3",
   "version": "3.8.6"
  }
 },
 "nbformat": 4,
 "nbformat_minor": 5
}
