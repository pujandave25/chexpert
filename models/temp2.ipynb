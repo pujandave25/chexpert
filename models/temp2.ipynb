{
 "cells": [
  {
   "cell_type": "code",
   "execution_count": 1,
   "metadata": {},
   "outputs": [],
   "source": [
    "from fastai.vision.all import *\n",
    "import pandas as pd\n",
    "import cam\n",
    "import util\n",
    "\n",
    "saved_path = '../saves/auc_maximization'\n",
    "\n",
    "dls, labels = util.chexpert_data_loader(bs=32)\n",
    "\n",
    "chexpert_learner_base = util.ChexpertLearner(dls, densenet121, n_out=len(labels),\n",
    "                                        loss_func=BCEWithLogitsLossFlat(),\n",
    "                                        model_dir=Path('auc_maximization'),\n",
    "                                        metrics=[RocAucMulti(average=None),\n",
    "                                                 RocAucMulti(average='weighted')])"
   ]
  },
  {
   "cell_type": "code",
   "execution_count": 4,
   "metadata": {},
   "outputs": [
    {
     "data": {
      "text/plain": [
       "<function torchvision.models.densenet.densenet121(pretrained=False, progress=True, **kwargs)>"
      ]
     },
     "execution_count": 4,
     "metadata": {},
     "output_type": "execute_result"
    }
   ],
   "source": [
    "# Save trained model\n",
    "torch.save(chexpert_learner_base.learn.model.state_dict(), path/'chexpert_learner_base.pth')\n",
    "\n",
    "# Create a new densenet121 and load the previous model's state_dict()\n",
    "chexpert_learner_dam = densenet121().cuda()\n",
    "chexpert_learner_dam.load_state_dict(torch.load(path/'chexpert_learner_base.pth'))\n",
    "\n",
    "next(chexpert_learner_dam.parameters()).is_cuda"
   ]
  },
  {
   "cell_type": "markdown",
   "metadata": {},
   "source": [
    "Copy `chextpert_learner_base` and replace it with a new head"
   ]
  },
  {
   "cell_type": "code",
   "execution_count": 48,
   "metadata": {},
   "outputs": [],
   "source": [
    "from copy import deepcopy\n",
    "\n",
    "# Perform a deepcopy of chexpert_learner_base model\n",
    "chexpert_learner_dam = deepcopy(chexpert_learner_base.learn.model)\n",
    "\n",
    "# Helper function to find the output shape\n",
    "def get_output_shape(model, image_dim):\n",
    "    return model(torch.rand(*(image_dim))).data.shape\n",
    "\n",
    "# Compute number of input features for the new head \n",
    "image_dim = next(iter(dls.train))[0].shape\n",
    "nf = get_output_shape(chexpert_learner_base.learn.model[0], next(iter(dls.train))[0].shape)[1]\n",
    "\n",
    "# Replace with a new head\n",
    "chexpert_learner_dam[1] = create_head(nf, len(labels))"
   ]
  },
  {
   "cell_type": "code",
   "execution_count": 49,
   "metadata": {},
   "outputs": [],
   "source": [
    "from libauc.losses import AUCMLoss\n",
    "from libauc.optimizers import PESG\n",
    "\n",
    "gamma = 500\n",
    "weight_decay = 0\n",
    "margin = 1.0\n",
    "\n",
    "loss_func = AUCMLoss()\n",
    "opt_func = PESG(chexpert_learner_dam, a=loss_func.a, b=loss_func.b, alpha=loss_func.alpha, gamma=gamma, margin=margin)"
   ]
  },
  {
   "cell_type": "code",
   "execution_count": null,
   "metadata": {},
   "outputs": [],
   "source": [
    "def train(model, dls, loss_func, opt_func, max_epoch=2):\n",
    "    for epoch in range(max_epoch):\n",
    "\n",
    "        train_pred = []\n",
    "        train_true = []\n",
    "        model.train()    \n",
    "        for i, (data, targets) in enumerate(dls.train):\n",
    "            y_pred = model(data)\n",
    "            loss = loss_func(y_pred, targets)\n",
    "            optimizer.zero_grad()\n",
    "            loss.backward(retain_graph=True)\n",
    "            optimizer.step()\n",
    "\n",
    "            train_pred.append(y_pred.cpu().detach().numpy())\n",
    "            train_true.append(targets.cpu().detach().numpy())\n",
    "            \n",
    "            if i == 2000:\n",
    "                optimizer.lr = optimizer.lr/3\n",
    "                optimizer.update_regularizer()\n",
    "\n",
    "        train_true = np.concatenate(train_true)\n",
    "        train_pred = np.concatenate(train_pred)\n",
    "        train_auc = roc_auc_score(train_true, train_pred) \n",
    "\n",
    "        model.eval()\n",
    "        test_pred = []\n",
    "        test_true = [] \n",
    "        for j, (test_data, test_targets) in enumerate(dls.valid):\n",
    "            y_pred = model(test_data)\n",
    "            test_pred.append(y_pred.cpu().detach().numpy())\n",
    "            test_true.append(test_targets.numpy())\n",
    "        test_true = np.concatenate(test_true)\n",
    "        test_pred = np.concatenate(test_pred)\n",
    "        val_auc =  roc_auc_score(test_true, test_pred) \n",
    "\n",
    "        # print results\n",
    "        print(\"epoch: {}, train_loss: {:4f}, train_auc:{:4f}, test_auc:{:4f}, lr:{:4f}\".format(epoch, loss.item(), train_auc, val_auc, optimizer.lr ))"
   ]
  }
 ],
 "metadata": {
  "kernelspec": {
   "display_name": "Python 3",
   "language": "python",
   "name": "python3"
  },
  "language_info": {
   "codemirror_mode": {
    "name": "ipython",
    "version": 3
   },
   "file_extension": ".py",
   "mimetype": "text/x-python",
   "name": "python",
   "nbconvert_exporter": "python",
   "pygments_lexer": "ipython3",
   "version": "3.8.6"
  }
 },
 "nbformat": 4,
 "nbformat_minor": 4
}
