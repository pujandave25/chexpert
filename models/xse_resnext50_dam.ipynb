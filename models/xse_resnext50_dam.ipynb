{
  "nbformat": 4,
  "nbformat_minor": 5,
  "metadata": {
    "kernelspec": {
      "display_name": "Python 3",
      "language": "python",
      "name": "python3"
    },
    "language_info": {
      "codemirror_mode": {
        "name": "ipython",
        "version": 3
      },
      "file_extension": ".py",
      "mimetype": "text/x-python",
      "name": "python",
      "nbconvert_exporter": "python",
      "pygments_lexer": "ipython3",
      "version": "3.8.5"
    },
    "colab": {
      "name": "xse_resnext50-dam.ipynb",
      "provenance": [],
      "machine_shape": "hm"
    },
    "accelerator": "GPU"
  },
  "cells": [
    {
      "cell_type": "markdown",
      "metadata": {
        "id": "F2W7qLE7uCLU"
      },
      "source": [
        "# DAM"
      ],
      "id": "F2W7qLE7uCLU"
    },
    {
      "cell_type": "code",
      "metadata": {
        "id": "KUVFBlXVv_WA"
      },
      "source": [
        "#!pip show fastai\n",
        "#!pip install fastai --upgrade\n",
        "#!pip install libauc"
      ],
      "id": "KUVFBlXVv_WA",
      "execution_count": null,
      "outputs": []
    },
    {
      "cell_type": "code",
      "metadata": {
        "id": "VDsaxaxSuCLa"
      },
      "source": [
        "from fastai.vision.all import *\n",
        "import pandas as pd\n",
        "import sys\n",
        "sys.path.insert(0,'/content/chexpert/models/')\n",
        "import cam\n",
        "import util"
      ],
      "id": "VDsaxaxSuCLa",
      "execution_count": null,
      "outputs": []
    },
    {
      "cell_type": "code",
      "metadata": {
        "id": "ozdEUGTBuCLa"
      },
      "source": [
        "base_model_name = 'xse_resnext50-chexpert-final'\n",
        "\n",
        "dls, labels = util.chexpert_data_loader(bs=8)"
      ],
      "id": "ozdEUGTBuCLa",
      "execution_count": null,
      "outputs": []
    },
    {
      "cell_type": "code",
      "metadata": {
        "id": "WweMMUQGuCLb"
      },
      "source": [
        "# Load the base model\n",
        "model_base = cnn_learner(dls, xse_resnext50, n_out=len(labels), path=Path('/content/chexpert/saves/'), y_range=[0,1])\n",
        "model_base.load(base_model_name)\n",
        "\n",
        "# Create a new densenet121 model\n",
        "model_dam = cnn_learner(dls, xse_resnext50, n_out=len(labels), y_range=[0,1]).model\n",
        "\n",
        "# Replace the body of new model with the body from the base model\n",
        "base_model_body = model_base.model[0].state_dict()\n",
        "model_dam[0].load_state_dict(base_model_body)\n",
        "\n",
        "# Set all parameters to require grad\n",
        "for param in model_dam.parameters():\n",
        "    param.requires_grad = True\n",
        "    \n",
        "# Initialize DAM learner\n",
        "dam_learner = util.DAM(model_dam, dls, folder=Path('/content/chexpert/saves/models'))"
      ],
      "id": "WweMMUQGuCLb",
      "execution_count": null,
      "outputs": []
    },
    {
      "cell_type": "code",
      "metadata": {
        "colab": {
          "base_uri": "https://localhost:8080/"
        },
        "id": "FTDMacZvuCLb",
        "outputId": "2c95651e-bc15-46f9-c0c5-655752697f08"
      },
      "source": [
        "print(f'Initial AUC score: {dam_learner.eval()}')"
      ],
      "id": "FTDMacZvuCLb",
      "execution_count": null,
      "outputs": [
        {
          "output_type": "stream",
          "text": [
            "Initial AUC score: 0.5064225515479093\n"
          ],
          "name": "stdout"
        }
      ]
    },
    {
      "cell_type": "code",
      "metadata": {
        "id": "dzrYKKXwuCLc",
        "colab": {
          "base_uri": "https://localhost:8080/"
        },
        "outputId": "4c1b73bc-f703-4267-91a2-c172da50df55"
      },
      "source": [
        "dam_learner.train(max_epoch=4, lr_div=1.5)"
      ],
      "id": "dzrYKKXwuCLc",
      "execution_count": 11,
      "outputs": [
        {
          "output_type": "stream",
          "text": [
            "epoch: 0, train_loss: -0.016398, train_auc:0.565837, test_auc:0.603565, lr:0.100000\n",
            "Update Regularizer @ T=22364!\n",
            "epoch: 1, train_loss: -0.005195, train_auc:0.550360, test_auc:0.632795, lr:0.066667\n",
            "Update Regularizer @ T=22364!\n",
            "epoch: 2, train_loss: -0.009628, train_auc:0.558004, test_auc:0.614033, lr:0.044444\n",
            "Update Regularizer @ T=22364!\n",
            "epoch: 3, train_loss: -0.003586, train_auc:0.556561, test_auc:0.582059, lr:0.029630\n",
            "Update Regularizer @ T=22364!\n"
          ],
          "name": "stdout"
        }
      ]
    },
    {
      "cell_type": "code",
      "metadata": {
        "id": "Qb02Qu6JuCLc"
      },
      "source": [
        ""
      ],
      "id": "Qb02Qu6JuCLc",
      "execution_count": null,
      "outputs": []
    }
  ]
}