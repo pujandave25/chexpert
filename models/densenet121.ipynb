{
 "cells": [
  {
   "cell_type": "code",
   "execution_count": null,
   "id": "abc3f89c",
   "metadata": {
    "gradient": {}
   },
   "outputs": [],
   "source": [
    "from fastai.vision.all import *\n",
    "import pandas as pd\n",
    "import cam\n",
    "import util"
   ]
  },
  {
   "cell_type": "code",
   "execution_count": null,
   "id": "4d64af79",
   "metadata": {
    "gradient": {}
   },
   "outputs": [],
   "source": [
    "dls, labels = util.chexpert_data_loader()"
   ]
  },
  {
   "cell_type": "code",
   "execution_count": null,
   "id": "d315a75b",
   "metadata": {
    "gradient": {}
   },
   "outputs": [],
   "source": [
    "dls.show_batch(max_n=9, figsize=(20,9))"
   ]
  },
  {
   "cell_type": "code",
   "execution_count": null,
   "id": "1f2b8292",
   "metadata": {
    "gradient": {}
   },
   "outputs": [],
   "source": [
    "chexpert_learner = util.ChexpertLearner(dls, densenet121, n_out=len(labels),\n",
    "                                        loss_func=BCEWithLogitsLossFlat(),\n",
    "                                        metrics=RocAucMulti(average='micro'))"
   ]
  },
  {
   "cell_type": "code",
   "execution_count": null,
   "id": "9103ee61",
   "metadata": {
    "gradient": {}
   },
   "outputs": [],
   "source": [
    "chexpert_learner.learn_model(use_saved=True , epochs=1, freeze_epochs=1)"
   ]
  },
  {
   "cell_type": "code",
   "execution_count": null,
   "id": "621ddac9",
   "metadata": {},
   "outputs": [],
   "source": [
    "cam.plot_cam(chexpert_learner.learn)"
   ]
  }
 ],
 "metadata": {
  "kernelspec": {
   "display_name": "Python 3",
   "language": "python",
   "name": "python3"
  },
  "language_info": {
   "codemirror_mode": {
    "name": "ipython",
    "version": 3
   },
   "file_extension": ".py",
   "mimetype": "text/x-python",
   "name": "python",
   "nbconvert_exporter": "python",
   "pygments_lexer": "ipython3",
   "version": "3.8.5"
  }
 },
 "nbformat": 4,
 "nbformat_minor": 5
}
