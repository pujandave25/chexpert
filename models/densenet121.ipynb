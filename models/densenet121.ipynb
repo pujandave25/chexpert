{
 "cells": [
  {
   "cell_type": "code",
   "execution_count": null,
   "id": "5a85dad0",
   "metadata": {
    "gradient": {}
   },
   "outputs": [],
   "source": [
    "from fastai.vision.all import *\n",
    "import pandas as pd\n",
    "import cam\n",
    "import util"
   ]
  },
  {
   "cell_type": "code",
   "execution_count": null,
   "id": "5b9b346b",
   "metadata": {
    "gradient": {}
   },
   "outputs": [],
   "source": [
    "dls, labels = util.chexpert_data_loader()"
   ]
  },
  {
   "cell_type": "code",
   "execution_count": null,
   "id": "19749bf8",
   "metadata": {
    "gradient": {}
   },
   "outputs": [],
   "source": [
    "dls.show_batch(max_n=9, figsize=(20,9))"
   ]
  },
  {
   "cell_type": "code",
   "execution_count": null,
   "id": "fa81d847",
   "metadata": {
    "gradient": {}
   },
   "outputs": [],
   "source": [
    "chexpert_learner = util.ChexpertLearner(dls, densenet121, n_out=len(labels),\n",
    "                                        loss_func=BCEWithLogitsLossFlat(),\n",
    "                                        metrics=RocAucMulti(average='micro'))"
   ]
  },
  {
   "cell_type": "code",
   "execution_count": null,
   "id": "244ad426",
   "metadata": {
    "gradient": {}
   },
   "outputs": [],
   "source": [
    "chexpert_learner.learn_model(use_saved=True , epochs=1, freeze_epochs=1)"
   ]
  },
  {
   "cell_type": "code",
   "execution_count": null,
   "id": "19cd88b6",
   "metadata": {},
   "outputs": [],
   "source": [
    "cam.plot_cam(chexpert_learner.learn)"
   ]
  }
 ],
 "metadata": {
  "kernelspec": {
   "display_name": "Python 3",
   "language": "python",
   "name": "python3"
  },
  "language_info": {
   "codemirror_mode": {
    "name": "ipython",
    "version": 3
   },
   "file_extension": ".py",
   "mimetype": "text/x-python",
   "name": "python",
   "nbconvert_exporter": "python",
   "pygments_lexer": "ipython3",
   "version": "3.8.5"
  }
 },
 "nbformat": 4,
 "nbformat_minor": 5
}
