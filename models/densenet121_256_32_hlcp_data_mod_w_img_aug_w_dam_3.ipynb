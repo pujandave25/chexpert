{
 "cells": [
  {
   "cell_type": "markdown",
   "metadata": {},
   "source": [
    "# DAM"
   ]
  },
  {
   "cell_type": "code",
   "execution_count": 1,
   "metadata": {},
   "outputs": [],
   "source": [
    "from fastai.vision.all import *\n",
    "import pandas as pd\n",
    "import cam\n",
    "import util"
   ]
  },
  {
   "cell_type": "code",
   "execution_count": 2,
   "metadata": {},
   "outputs": [],
   "source": [
    "base_model_name = 'densenet121-chexpert-final'\n",
    "\n",
    "dls, labels = util.chexpert_data_loader(bs=16)"
   ]
  },
  {
   "cell_type": "code",
   "execution_count": 3,
   "metadata": {},
   "outputs": [],
   "source": [
    "# Load the base model\n",
    "model_base = cnn_learner(dls, densenet121, n_out=len(labels), path=Path('../saves/'), y_range=(0,1))\n",
    "model_base.load(base_model_name)\n",
    "\n",
    "# Set all parameters to require grad\n",
    "for param in model_base.parameters():\n",
    "    param.requires_grad = True\n",
    "    \n",
    "# Initialize DAM learner\n",
    "dam_learner = util.DAM(model_base, dls, folder=Path('../saves/densenet121-dam'), lr=0.04)"
   ]
  },
  {
   "cell_type": "code",
   "execution_count": 4,
   "metadata": {},
   "outputs": [
    {
     "name": "stdout",
     "output_type": "stream",
     "text": [
      "Initial AUC score: 0.8167849105903288\n"
     ]
    }
   ],
   "source": [
    "print(f'Initial AUC score: {dam_learner.eval()}')"
   ]
  },
  {
   "cell_type": "code",
   "execution_count": null,
   "metadata": {},
   "outputs": [
    {
     "name": "stdout",
     "output_type": "stream",
     "text": [
      "epoch: 0, train_loss: -0.016421, train_auc:0.762398, test_auc:0.813186, lr:0.040000\n",
      "Update Regularizer @ T=11182!\n",
      "epoch: 1, train_loss: -0.004450, train_auc:0.749058, test_auc:0.817175, lr:0.032000\n",
      "Update Regularizer @ T=11182!\n"
     ]
    }
   ],
   "source": [
    "dam_learner.train(max_epoch=3, lr_div=1.25)"
   ]
  },
  {
   "cell_type": "markdown",
   "metadata": {},
   "source": [
    "Get the categorywise AUC scores of the best model."
   ]
  },
  {
   "cell_type": "code",
   "execution_count": 6,
   "metadata": {},
   "outputs": [],
   "source": [
    "dam_learner.load('m-epoch 2-2021_May_09-01_59_24.pth.tar')"
   ]
  },
  {
   "cell_type": "code",
   "execution_count": 7,
   "metadata": {},
   "outputs": [
    {
     "name": "stdout",
     "output_type": "stream",
     "text": [
      "Categorywise AUC score: [0.87006169 0.66493975 0.84916202 0.71735267 0.75080481 0.83673019\n",
      " 0.71728706 0.75167137 0.67302798 0.85925304 0.86890694 0.77324298\n",
      " 0.73940662 0.87770493]\n"
     ]
    }
   ],
   "source": [
    "print(f'Categorywise AUC score: {dam_learner.eval(average=None)}')"
   ]
  },
  {
   "cell_type": "code",
   "execution_count": null,
   "metadata": {},
   "outputs": [],
   "source": []
  }
 ],
 "metadata": {
  "kernelspec": {
   "display_name": "Python 3",
   "language": "python",
   "name": "python3"
  },
  "language_info": {
   "codemirror_mode": {
    "name": "ipython",
    "version": 3
   },
   "file_extension": ".py",
   "mimetype": "text/x-python",
   "name": "python",
   "nbconvert_exporter": "python",
   "pygments_lexer": "ipython3",
   "version": "3.8.5"
  }
 },
 "nbformat": 4,
 "nbformat_minor": 5
}
