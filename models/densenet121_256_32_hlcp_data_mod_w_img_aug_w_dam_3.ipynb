{
 "cells": [
  {
   "cell_type": "markdown",
   "metadata": {},
   "source": [
    "# DAM"
   ]
  },
  {
   "cell_type": "code",
   "execution_count": 1,
   "metadata": {},
   "outputs": [],
   "source": [
    "from fastai.vision.all import *\n",
    "import pandas as pd\n",
    "import cam\n",
    "import util"
   ]
  },
  {
   "cell_type": "code",
   "execution_count": 2,
   "metadata": {},
   "outputs": [],
   "source": [
    "base_model_name = 'densenet121-chexpert-final'\n",
    "\n",
    "dls, labels = util.chexpert_data_loader(bs=16)"
   ]
  },
  {
   "cell_type": "code",
   "execution_count": 3,
   "metadata": {},
   "outputs": [],
   "source": [
    "# Load the base model\n",
    "model_base = cnn_learner(dls, densenet121, n_out=len(labels), path=Path('../saves/'), y_range=(0,1))\n",
    "model_base.load(base_model_name)\n",
    "\n",
    "# Set all parameters to require grad\n",
    "for param in model_base.parameters():\n",
    "    param.requires_grad = True\n",
    "    \n",
    "# Initialize DAM learner\n",
    "dam_learner = util.DAM(model_base, dls, folder=Path('../saves/densenet121-dam'), lr=0.04)"
   ]
  },
  {
   "cell_type": "code",
   "execution_count": 4,
   "metadata": {},
   "outputs": [
    {
     "name": "stdout",
     "output_type": "stream",
     "text": [
      "Initial AUC score: 0.8167849105903288\n"
     ]
    }
   ],
   "source": [
    "print(f'Initial AUC score: {dam_learner.eval()}')"
   ]
  },
  {
   "cell_type": "code",
   "execution_count": null,
   "metadata": {},
   "outputs": [
    {
     "name": "stdout",
     "output_type": "stream",
     "text": [
      "epoch: 0, train_loss: -0.016421, train_auc:0.762398, test_auc:0.813186, lr:0.040000\n",
      "Update Regularizer @ T=11182!\n",
      "epoch: 1, train_loss: -0.004450, train_auc:0.749058, test_auc:0.817175, lr:0.032000\n",
      "Update Regularizer @ T=11182!\n"
     ]
    }
   ],
   "source": [
    "dam_learner.train(max_epoch=3, lr_div=1.25)"
   ]
  },
  {
   "cell_type": "markdown",
   "metadata": {},
   "source": [
    "Get the categorywise AUC scores of the best model."
   ]
  },
  {
   "cell_type": "code",
   "execution_count": 4,
   "metadata": {},
   "outputs": [],
   "source": [
    "dam_learner.load('m-epoch 2-2021_May_10-02_19_17.pth.tar')"
   ]
  },
  {
   "cell_type": "code",
   "execution_count": 5,
   "metadata": {},
   "outputs": [
    {
     "name": "stdout",
     "output_type": "stream",
     "text": [
      "[0.87594719 0.65596326 0.84921414 0.73102591 0.76650035 0.8407368\n",
      " 0.72227811 0.74685532 0.6878983  0.86726454 0.87525643 0.79727297\n",
      " 0.73168564 0.88334658]\n"
     ]
    }
   ],
   "source": [
    "categorywise_auc_scores = dam_learner.eval(average=None)\n",
    "print(categorywise_auc_scores)"
   ]
  },
  {
   "cell_type": "code",
   "execution_count": 6,
   "metadata": {},
   "outputs": [
    {
     "name": "stdout",
     "output_type": "stream",
     "text": [
      "0.795076755911267\n"
     ]
    }
   ],
   "source": [
    "idx_5_labels = (2, 5, 6, 8, 10)\n",
    "avg_auc = 0\n",
    "for i in idx_5_labels:\n",
    "    avg_auc += categorywise_auc_scores[i]\n",
    "avg_auc /= len(idx_5_labels)\n",
    "print(avg_auc)"
   ]
  }
 ],
 "metadata": {
  "kernelspec": {
   "display_name": "Python 3",
   "language": "python",
   "name": "python3"
  },
  "language_info": {
   "codemirror_mode": {
    "name": "ipython",
    "version": 3
   },
   "file_extension": ".py",
   "mimetype": "text/x-python",
   "name": "python",
   "nbconvert_exporter": "python",
   "pygments_lexer": "ipython3",
   "version": "3.8.6"
  }
 },
 "nbformat": 4,
 "nbformat_minor": 5
}
